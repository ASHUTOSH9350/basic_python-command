{
 "cells": [
  {
   "cell_type": "markdown",
   "id": "02766c9f",
   "metadata": {},
   "source": [
    "## revision of paython basics of 21.7.21 on 22.7.21"
   ]
  },
  {
   "cell_type": "markdown",
   "id": "32aa9bb7",
   "metadata": {},
   "source": [
    "how variable name be taken in paython"
   ]
  },
  {
   "cell_type": "markdown",
   "id": "09781087",
   "metadata": {},
   "source": [
    "1. variable can be of any lenght i.e. "
   ]
  },
  {
   "cell_type": "code",
   "execution_count": 4,
   "id": "a548dc9a",
   "metadata": {},
   "outputs": [],
   "source": [
    "# variable can be of any lenght"
   ]
  },
  {
   "cell_type": "code",
   "execution_count": 5,
   "id": "52950537",
   "metadata": {},
   "outputs": [],
   "source": [
    "myfirstpoject=200\n",
    "firstproject=200\n",
    "pro=200"
   ]
  },
  {
   "cell_type": "markdown",
   "id": "4e9b62d4",
   "metadata": {},
   "source": [
    "2. variable name may contain numbers, alphabets ans _"
   ]
  },
  {
   "cell_type": "code",
   "execution_count": 6,
   "id": "d0b7fcb1",
   "metadata": {},
   "outputs": [],
   "source": [
    "my_firstproject2021=200\n",
    "project_2021=200"
   ]
  },
  {
   "cell_type": "markdown",
   "id": "f37a3ee5",
   "metadata": {},
   "source": [
    "3. variable shall not contain space"
   ]
  },
  {
   "cell_type": "code",
   "execution_count": 7,
   "id": "abca4c47",
   "metadata": {},
   "outputs": [
    {
     "ename": "SyntaxError",
     "evalue": "invalid syntax (<ipython-input-7-8e97b56d0571>, line 1)",
     "output_type": "error",
     "traceback": [
      "\u001b[1;36m  File \u001b[1;32m\"<ipython-input-7-8e97b56d0571>\"\u001b[1;36m, line \u001b[1;32m1\u001b[0m\n\u001b[1;33m    my project=200\u001b[0m\n\u001b[1;37m       ^\u001b[0m\n\u001b[1;31mSyntaxError\u001b[0m\u001b[1;31m:\u001b[0m invalid syntax\n"
     ]
    }
   ],
   "source": [
    "my project=200"
   ]
  },
  {
   "cell_type": "markdown",
   "id": "6631c1c5",
   "metadata": {},
   "source": [
    "4. it shall not start ith numbers"
   ]
  },
  {
   "cell_type": "code",
   "execution_count": 8,
   "id": "3cae41ff",
   "metadata": {},
   "outputs": [
    {
     "ename": "SyntaxError",
     "evalue": "invalid decimal literal (<ipython-input-8-3b9a6a23bf17>, line 1)",
     "output_type": "error",
     "traceback": [
      "\u001b[1;36m  File \u001b[1;32m\"<ipython-input-8-3b9a6a23bf17>\"\u001b[1;36m, line \u001b[1;32m1\u001b[0m\n\u001b[1;33m    2021_myproject=200\u001b[0m\n\u001b[1;37m        ^\u001b[0m\n\u001b[1;31mSyntaxError\u001b[0m\u001b[1;31m:\u001b[0m invalid decimal literal\n"
     ]
    }
   ],
   "source": [
    "2021_myproject=200"
   ]
  },
  {
   "cell_type": "markdown",
   "id": "bb4ab310",
   "metadata": {},
   "source": [
    "5. it shall not contain spl character"
   ]
  },
  {
   "cell_type": "code",
   "execution_count": 9,
   "id": "35727ab9",
   "metadata": {},
   "outputs": [
    {
     "ename": "SyntaxError",
     "evalue": "invalid syntax (<ipython-input-9-6519d1ffc028>, line 1)",
     "output_type": "error",
     "traceback": [
      "\u001b[1;36m  File \u001b[1;32m\"<ipython-input-9-6519d1ffc028>\"\u001b[1;36m, line \u001b[1;32m1\u001b[0m\n\u001b[1;33m    mypoject$2021=200\u001b[0m\n\u001b[1;37m            ^\u001b[0m\n\u001b[1;31mSyntaxError\u001b[0m\u001b[1;31m:\u001b[0m invalid syntax\n"
     ]
    }
   ],
   "source": [
    "mypoject$2021=200"
   ]
  },
  {
   "cell_type": "markdown",
   "id": "2c20e3f9",
   "metadata": {},
   "source": [
    "6. variable name shall not be keywords"
   ]
  },
  {
   "cell_type": "code",
   "execution_count": 10,
   "id": "a1cf3ab4",
   "metadata": {},
   "outputs": [],
   "source": [
    "# print=100\n",
    "# break=100\n",
    "# while=100\n"
   ]
  },
  {
   "cell_type": "markdown",
   "id": "f50286f2",
   "metadata": {},
   "source": [
    "## to activate keywords"
   ]
  },
  {
   "cell_type": "code",
   "execution_count": 12,
   "id": "4ef1d79a",
   "metadata": {},
   "outputs": [],
   "source": [
    "import keyword"
   ]
  },
  {
   "cell_type": "markdown",
   "id": "6e7daf54",
   "metadata": {},
   "source": [
    "## To see the keywords list"
   ]
  },
  {
   "cell_type": "code",
   "execution_count": 14,
   "id": "27c0e63f",
   "metadata": {},
   "outputs": [
    {
     "name": "stdout",
     "output_type": "stream",
     "text": [
      "35\n"
     ]
    }
   ],
   "source": [
    "print(len(keyword.kwlist))"
   ]
  },
  {
   "cell_type": "code",
   "execution_count": 15,
   "id": "2aba5d54",
   "metadata": {},
   "outputs": [
    {
     "name": "stdout",
     "output_type": "stream",
     "text": [
      "['False', 'None', 'True', 'and', 'as', 'assert', 'async', 'await', 'break', 'class', 'continue', 'def', 'del', 'elif', 'else', 'except', 'finally', 'for', 'from', 'global', 'if', 'import', 'in', 'is', 'lambda', 'nonlocal', 'not', 'or', 'pass', 'raise', 'return', 'try', 'while', 'with', 'yield']\n"
     ]
    }
   ],
   "source": [
    "print(keyword.kwlist)"
   ]
  },
  {
   "cell_type": "markdown",
   "id": "e37d7b0e",
   "metadata": {},
   "source": [
    "## To display anything on screen"
   ]
  },
  {
   "cell_type": "code",
   "execution_count": 16,
   "id": "fa31d7bd",
   "metadata": {},
   "outputs": [
    {
     "name": "stdout",
     "output_type": "stream",
     "text": [
      "\n"
     ]
    }
   ],
   "source": [
    "print()"
   ]
  },
  {
   "cell_type": "markdown",
   "id": "a3e1ae84",
   "metadata": {},
   "source": [
    "## jupyter benefits\n"
   ]
  },
  {
   "cell_type": "code",
   "execution_count": 17,
   "id": "1f1f53a6",
   "metadata": {},
   "outputs": [],
   "source": [
    "#last line of the code cell displayed as a output, if it is return type"
   ]
  },
  {
   "cell_type": "code",
   "execution_count": 22,
   "id": "a339f137",
   "metadata": {},
   "outputs": [
    {
     "data": {
      "text/plain": [
       "10.0"
      ]
     },
     "execution_count": 22,
     "metadata": {},
     "output_type": "execute_result"
    }
   ],
   "source": [
    "a=200\n",
    "b=20\n",
    "div_ =a/b\n",
    "div_"
   ]
  },
  {
   "cell_type": "code",
   "execution_count": 27,
   "id": "4fa888b1",
   "metadata": {},
   "outputs": [],
   "source": [
    "import sys"
   ]
  },
  {
   "cell_type": "code",
   "execution_count": null,
   "id": "9e67d050",
   "metadata": {},
   "outputs": [],
   "source": []
  },
  {
   "cell_type": "markdown",
   "id": "634c454a",
   "metadata": {},
   "source": [
    "## datatypes\n"
   ]
  },
  {
   "cell_type": "code",
   "execution_count": 23,
   "id": "4e65384a",
   "metadata": {},
   "outputs": [],
   "source": [
    "#string"
   ]
  },
  {
   "cell_type": "code",
   "execution_count": 28,
   "id": "bfb6ddb2",
   "metadata": {},
   "outputs": [
    {
     "name": "stdout",
     "output_type": "stream",
     "text": [
      "delhi\n",
      "<class 'str'>\n",
      "54\n"
     ]
    }
   ],
   "source": [
    "word_1 =\"delhi\"\n",
    "print(word_1)\n",
    "print(type(word_1))\n",
    "print(sys.getsizeof(word_1))"
   ]
  },
  {
   "cell_type": "code",
   "execution_count": 29,
   "id": "6806cdbc",
   "metadata": {},
   "outputs": [
    {
     "name": "stdout",
     "output_type": "stream",
     "text": [
      "mumbai\n",
      "<class 'str'>\n",
      "55\n"
     ]
    }
   ],
   "source": [
    "word_2 ='mumbai'\n",
    "print(word_2)\n",
    "print(type(word_2))\n",
    "print(sys.getsizeof(word_2))"
   ]
  },
  {
   "cell_type": "code",
   "execution_count": 30,
   "id": "8c50e0eb",
   "metadata": {},
   "outputs": [
    {
     "name": "stdout",
     "output_type": "stream",
     "text": [
      "hey i m from delhi and looking a job in mumbai\n",
      "<class 'str'>\n",
      "95\n"
     ]
    }
   ],
   "source": [
    "word_3 ='hey i m from delhi and looking a job in mumbai'\n",
    "print(word_3)\n",
    "print(type(word_3))\n",
    "print(sys.getsizeof(word_3))"
   ]
  },
  {
   "cell_type": "code",
   "execution_count": 31,
   "id": "d30ea87d",
   "metadata": {},
   "outputs": [],
   "source": [
    "## in code cell 28, 29, 30 onle byte size changed double string on single string does'nt matter"
   ]
  },
  {
   "cell_type": "code",
   "execution_count": 33,
   "id": "abb538b5",
   "metadata": {},
   "outputs": [
    {
     "name": "stdout",
     "output_type": "stream",
     "text": [
      "4.0\n"
     ]
    }
   ],
   "source": [
    "# single line comment\n",
    "a=100\n",
    "# ######## comment\n",
    "b=25\n",
    "### fhtyugddf fggsf\n",
    "print(a/b)\n",
    "##"
   ]
  },
  {
   "cell_type": "code",
   "execution_count": 34,
   "id": "1f1c0158",
   "metadata": {},
   "outputs": [],
   "source": [
    "## in code cell 33 only only print () command performed and comments left out"
   ]
  },
  {
   "cell_type": "code",
   "execution_count": 36,
   "id": "93edcae9",
   "metadata": {},
   "outputs": [
    {
     "data": {
      "text/plain": [
       "' dear customer\\nwe wlcome you to gmart\\nhope u will enjoy our food mart\\nregards'"
      ]
     },
     "execution_count": 36,
     "metadata": {},
     "output_type": "execute_result"
    }
   ],
   "source": [
    "\"\"\" dear customer\n",
    "we wlcome you to gmart\n",
    "hope u will enjoy our food mart\n",
    "regards\"\"\""
   ]
  },
  {
   "cell_type": "code",
   "execution_count": 37,
   "id": "75d10e8d",
   "metadata": {},
   "outputs": [
    {
     "name": "stdout",
     "output_type": "stream",
     "text": [
      " dear customer\n",
      "we wlcome you to gmart\n",
      "hope u will enjoy our food mart\n",
      "regards\n"
     ]
    }
   ],
   "source": [
    "print(\"\"\" dear customer\n",
    "we wlcome you to gmart\n",
    "hope u will enjoy our food mart\n",
    "regards\"\"\")"
   ]
  },
  {
   "cell_type": "code",
   "execution_count": 38,
   "id": "640516a4",
   "metadata": {},
   "outputs": [
    {
     "name": "stdout",
     "output_type": "stream",
     "text": [
      " dear customer\n",
      "we wlcome you to gmart\n",
      "hope u will enjoy our food mart\n",
      "regards\n"
     ]
    }
   ],
   "source": [
    "print(' dear customer\\nwe wlcome you to gmart\\nhope u will enjoy our food mart\\nregards')"
   ]
  },
  {
   "cell_type": "code",
   "execution_count": 39,
   "id": "25eee213",
   "metadata": {},
   "outputs": [
    {
     "name": "stdout",
     "output_type": "stream",
     "text": [
      " dear customer\twe wlcome you to gmart\t\thope u will enjoy our food mart\n",
      "regards\n"
     ]
    }
   ],
   "source": [
    "print(' dear customer\\twe wlcome you to gmart\\t\\thope u will enjoy our food mart\\nregards')"
   ]
  },
  {
   "cell_type": "code",
   "execution_count": 40,
   "id": "5eb55c57",
   "metadata": {},
   "outputs": [
    {
     "ename": "SyntaxError",
     "evalue": "invalid syntax (<ipython-input-40-ccdcaa112f6d>, line 1)",
     "output_type": "error",
     "traceback": [
      "\u001b[1;36m  File \u001b[1;32m\"<ipython-input-40-ccdcaa112f6d>\"\u001b[1;36m, line \u001b[1;32m1\u001b[0m\n\u001b[1;33m    print(\"thank\"s for joining us\")\u001b[0m\n\u001b[1;37m                 ^\u001b[0m\n\u001b[1;31mSyntaxError\u001b[0m\u001b[1;31m:\u001b[0m invalid syntax\n"
     ]
    }
   ],
   "source": [
    "print(\"thank\"s for joining us\")"
   ]
  },
  {
   "cell_type": "code",
   "execution_count": 42,
   "id": "c15dd11a",
   "metadata": {},
   "outputs": [
    {
     "name": "stdout",
     "output_type": "stream",
     "text": [
      "thank's for joining us\n"
     ]
    }
   ],
   "source": [
    "print(\"thank's for joining us\")"
   ]
  },
  {
   "cell_type": "code",
   "execution_count": 43,
   "id": "aae3f570",
   "metadata": {},
   "outputs": [
    {
     "name": "stdout",
     "output_type": "stream",
     "text": [
      "thank\"s for joining us\n"
     ]
    }
   ],
   "source": [
    "print('thank\"s for joining us')"
   ]
  },
  {
   "cell_type": "markdown",
   "id": "65b5521d",
   "metadata": {},
   "source": [
    "## numbers- integer, float,complex "
   ]
  },
  {
   "cell_type": "code",
   "execution_count": 44,
   "id": "b5827d56",
   "metadata": {},
   "outputs": [
    {
     "data": {
      "text/plain": [
       "int"
      ]
     },
     "execution_count": 44,
     "metadata": {},
     "output_type": "execute_result"
    }
   ],
   "source": [
    "num=200\n",
    "type(num)"
   ]
  },
  {
   "cell_type": "code",
   "execution_count": 45,
   "id": "51a6355c",
   "metadata": {},
   "outputs": [
    {
     "data": {
      "text/plain": [
       "float"
      ]
     },
     "execution_count": 45,
     "metadata": {},
     "output_type": "execute_result"
    }
   ],
   "source": [
    "f1=34.39\n",
    "type(f1)"
   ]
  },
  {
   "cell_type": "code",
   "execution_count": 46,
   "id": "2d7716a3",
   "metadata": {},
   "outputs": [
    {
     "data": {
      "text/plain": [
       "complex"
      ]
     },
     "execution_count": 46,
     "metadata": {},
     "output_type": "execute_result"
    }
   ],
   "source": [
    "c= 45+2j\n",
    "type(c)"
   ]
  },
  {
   "cell_type": "code",
   "execution_count": 47,
   "id": "ca1c4ae9",
   "metadata": {},
   "outputs": [
    {
     "name": "stdout",
     "output_type": "stream",
     "text": [
      "6878.0\n",
      "(9000+400j)\n"
     ]
    }
   ],
   "source": [
    "print(num*f1)\n",
    "print(num*c)"
   ]
  },
  {
   "cell_type": "code",
   "execution_count": 48,
   "id": "f0167ca8",
   "metadata": {},
   "outputs": [
    {
     "data": {
      "text/plain": [
       "3.0"
      ]
     },
     "execution_count": 48,
     "metadata": {},
     "output_type": "execute_result"
    }
   ],
   "source": [
    "9**0.5"
   ]
  },
  {
   "cell_type": "code",
   "execution_count": 49,
   "id": "2184b612",
   "metadata": {},
   "outputs": [
    {
     "data": {
      "text/plain": [
       "-12"
      ]
     },
     "execution_count": 49,
     "metadata": {},
     "output_type": "execute_result"
    }
   ],
   "source": [
    "abc=6*(-2)\n",
    "abc"
   ]
  },
  {
   "cell_type": "markdown",
   "id": "03ff43e7",
   "metadata": {},
   "source": [
    "## to perform maths operations call math libarary as follows"
   ]
  },
  {
   "cell_type": "code",
   "execution_count": 52,
   "id": "b3fb05ea",
   "metadata": {},
   "outputs": [],
   "source": [
    "import math"
   ]
  },
  {
   "cell_type": "markdown",
   "id": "3122ef04",
   "metadata": {},
   "source": []
  },
  {
   "cell_type": "code",
   "execution_count": 53,
   "id": "42c8db46",
   "metadata": {},
   "outputs": [
    {
     "data": {
      "text/plain": [
       "8.0"
      ]
     },
     "execution_count": 53,
     "metadata": {},
     "output_type": "execute_result"
    }
   ],
   "source": [
    "math.sqrt(64)"
   ]
  },
  {
   "cell_type": "code",
   "execution_count": 54,
   "id": "a1730cd7",
   "metadata": {},
   "outputs": [
    {
     "data": {
      "text/plain": [
       "2.718281828459045"
      ]
     },
     "execution_count": 54,
     "metadata": {},
     "output_type": "execute_result"
    }
   ],
   "source": [
    "math.exp(1)"
   ]
  },
  {
   "cell_type": "code",
   "execution_count": 55,
   "id": "d0c6b1ce",
   "metadata": {},
   "outputs": [
    {
     "data": {
      "text/plain": [
       "6"
      ]
     },
     "execution_count": 55,
     "metadata": {},
     "output_type": "execute_result"
    }
   ],
   "source": [
    "math.floor(6.999)"
   ]
  },
  {
   "cell_type": "code",
   "execution_count": 56,
   "id": "fb0322fe",
   "metadata": {},
   "outputs": [
    {
     "data": {
      "text/plain": [
       "7"
      ]
     },
     "execution_count": 56,
     "metadata": {},
     "output_type": "execute_result"
    }
   ],
   "source": [
    "math.ceil(6.99)"
   ]
  },
  {
   "cell_type": "code",
   "execution_count": 57,
   "id": "f3056232",
   "metadata": {},
   "outputs": [
    {
     "ename": "AttributeError",
     "evalue": "module 'math' has no attribute 'round'",
     "output_type": "error",
     "traceback": [
      "\u001b[1;31m---------------------------------------------------------------------------\u001b[0m",
      "\u001b[1;31mAttributeError\u001b[0m                            Traceback (most recent call last)",
      "\u001b[1;32m<ipython-input-57-6134b15e1dbe>\u001b[0m in \u001b[0;36m<module>\u001b[1;34m\u001b[0m\n\u001b[1;32m----> 1\u001b[1;33m \u001b[0mmath\u001b[0m\u001b[1;33m.\u001b[0m\u001b[0mround\u001b[0m\u001b[1;33m(\u001b[0m\u001b[1;36m6.943\u001b[0m\u001b[1;33m,\u001b[0m\u001b[1;36m1\u001b[0m\u001b[1;33m)\u001b[0m\u001b[1;33m\u001b[0m\u001b[1;33m\u001b[0m\u001b[0m\n\u001b[0m",
      "\u001b[1;31mAttributeError\u001b[0m: module 'math' has no attribute 'round'"
     ]
    }
   ],
   "source": [
    "math.round(6.943,1)"
   ]
  },
  {
   "cell_type": "code",
   "execution_count": 58,
   "id": "7e859a45",
   "metadata": {},
   "outputs": [
    {
     "data": {
      "text/plain": [
       "3125.0"
      ]
     },
     "execution_count": 58,
     "metadata": {},
     "output_type": "execute_result"
    }
   ],
   "source": [
    "math.pow(5,5)"
   ]
  },
  {
   "cell_type": "markdown",
   "id": "b4d14a85",
   "metadata": {},
   "source": [
    "num1=100\n",
    "num2=10"
   ]
  },
  {
   "cell_type": "code",
   "execution_count": 60,
   "id": "69c75d0b",
   "metadata": {},
   "outputs": [
    {
     "ename": "NameError",
     "evalue": "name 'num1' is not defined",
     "output_type": "error",
     "traceback": [
      "\u001b[1;31m---------------------------------------------------------------------------\u001b[0m",
      "\u001b[1;31mNameError\u001b[0m                                 Traceback (most recent call last)",
      "\u001b[1;32m<ipython-input-60-2615649a6f3f>\u001b[0m in \u001b[0;36m<module>\u001b[1;34m\u001b[0m\n\u001b[1;32m----> 1\u001b[1;33m \u001b[0mmath\u001b[0m\u001b[1;33m.\u001b[0m\u001b[0mfactorial\u001b[0m\u001b[1;33m(\u001b[0m\u001b[0mnum1\u001b[0m\u001b[1;33m)\u001b[0m\u001b[1;33m\u001b[0m\u001b[1;33m\u001b[0m\u001b[0m\n\u001b[0m",
      "\u001b[1;31mNameError\u001b[0m: name 'num1' is not defined"
     ]
    }
   ],
   "source": [
    "math.factorial(num1)"
   ]
  },
  {
   "cell_type": "markdown",
   "id": "305a0171",
   "metadata": {},
   "source": [
    "## boolean - true, false"
   ]
  },
  {
   "cell_type": "code",
   "execution_count": 61,
   "id": "64f97593",
   "metadata": {},
   "outputs": [],
   "source": [
    "num3=100"
   ]
  },
  {
   "cell_type": "code",
   "execution_count": 62,
   "id": "e84b296f",
   "metadata": {},
   "outputs": [
    {
     "data": {
      "text/plain": [
       "True"
      ]
     },
     "execution_count": 62,
     "metadata": {},
     "output_type": "execute_result"
    }
   ],
   "source": [
    "num3==100"
   ]
  },
  {
   "cell_type": "code",
   "execution_count": 63,
   "id": "dda4ae3a",
   "metadata": {},
   "outputs": [],
   "source": [
    "# bytes and bytes arrey"
   ]
  },
  {
   "cell_type": "code",
   "execution_count": 65,
   "id": "bcf483fb",
   "metadata": {},
   "outputs": [
    {
     "name": "stdout",
     "output_type": "stream",
     "text": [
      "42345\n"
     ]
    }
   ],
   "source": [
    "bin_a=0b1010010101101001\n",
    "print(bin_a)"
   ]
  },
  {
   "cell_type": "code",
   "execution_count": 66,
   "id": "324b6e68",
   "metadata": {},
   "outputs": [
    {
     "data": {
      "text/plain": [
       "True"
      ]
     },
     "execution_count": 66,
     "metadata": {},
     "output_type": "execute_result"
    }
   ],
   "source": [
    "42345==bin_a"
   ]
  },
  {
   "cell_type": "code",
   "execution_count": 67,
   "id": "67e7272b",
   "metadata": {},
   "outputs": [
    {
     "name": "stdout",
     "output_type": "stream",
     "text": [
      "175323438\n"
     ]
    }
   ],
   "source": [
    "oct_a=0o1234634456\n",
    "print(oct_a)"
   ]
  },
  {
   "cell_type": "code",
   "execution_count": 68,
   "id": "b26b281f",
   "metadata": {},
   "outputs": [
    {
     "name": "stdout",
     "output_type": "stream",
     "text": [
      "269\n"
     ]
    }
   ],
   "source": [
    "hex_a=0x10d\n",
    "print(hex_a)"
   ]
  },
  {
   "cell_type": "code",
   "execution_count": 69,
   "id": "fb01a22b",
   "metadata": {},
   "outputs": [
    {
     "data": {
      "text/plain": [
       "'0o415'"
      ]
     },
     "execution_count": 69,
     "metadata": {},
     "output_type": "execute_result"
    }
   ],
   "source": [
    "oct(hex_a)"
   ]
  },
  {
   "cell_type": "markdown",
   "id": "2361b77c",
   "metadata": {},
   "source": [
    "1. list-collection of elements of different datatypes, it is represented by[]\n",
    "2. tuple - collection of elements of different datatypes, it is represented by()\n",
    "3. sets- collection of elements of uniques different datatypes, it is represented by {\"\"}\n",
    "4. range - collection of numbers from start to end. range()\n",
    "5. dictionary - collection of keys and values. it is represented {key:value}\n",
    "6. array - collection of elements of similar datatypes, it is represented by[]\n"
   ]
  },
  {
   "cell_type": "code",
   "execution_count": 2,
   "id": "56640d50",
   "metadata": {},
   "outputs": [
    {
     "name": "stdout",
     "output_type": "stream",
     "text": [
      "[8, 'good evening', False, 9.1, (9+4j), 312]\n",
      "<class 'list'>\n"
     ]
    }
   ],
   "source": [
    "listname = [8,\"good evening\", False, 9.1, 9+4j,0b0100111000]\n",
    "print(listname)\n",
    "print(type(listname))"
   ]
  },
  {
   "cell_type": "code",
   "execution_count": 4,
   "id": "45c8d6ac",
   "metadata": {},
   "outputs": [
    {
     "name": "stdout",
     "output_type": "stream",
     "text": [
      "(8, 'good evening', False, 9.1, (9+4j), 312)\n",
      "<class 'tuple'>\n"
     ]
    }
   ],
   "source": [
    "tuplename = (8,\"good evening\", False, 9.1, 9+4j,0b0100111000)\n",
    "print(tuplename)\n",
    "print(type(tuplename))"
   ]
  },
  {
   "cell_type": "code",
   "execution_count": 5,
   "id": "8709c0c7",
   "metadata": {},
   "outputs": [
    {
     "name": "stdout",
     "output_type": "stream",
     "text": [
      "{False, 8, 9.1, 'good evening', (9+4j), 312}\n",
      "<class 'set'>\n"
     ]
    }
   ],
   "source": [
    "setname = {8,\"good evening\", False, 9.1, 9+4j,0b0100111000}\n",
    "print(setname)\n",
    "print(type(setname))"
   ]
  },
  {
   "cell_type": "code",
   "execution_count": 6,
   "id": "6a7540b4",
   "metadata": {},
   "outputs": [
    {
     "data": {
      "text/plain": [
       "[1, 2, 3, 4, 5, 6, 7, 8, 9, 10, 11, 12, 13, 14]"
      ]
     },
     "execution_count": 6,
     "metadata": {},
     "output_type": "execute_result"
    }
   ],
   "source": [
    "list(range(1,15))"
   ]
  },
  {
   "cell_type": "code",
   "execution_count": null,
   "id": "d3f4cc15",
   "metadata": {},
   "outputs": [],
   "source": []
  }
 ],
 "metadata": {
  "kernelspec": {
   "display_name": "Python 3",
   "language": "python",
   "name": "python3"
  },
  "language_info": {
   "codemirror_mode": {
    "name": "ipython",
    "version": 3
   },
   "file_extension": ".py",
   "mimetype": "text/x-python",
   "name": "python",
   "nbconvert_exporter": "python",
   "pygments_lexer": "ipython3",
   "version": "3.8.8"
  }
 },
 "nbformat": 4,
 "nbformat_minor": 5
}
